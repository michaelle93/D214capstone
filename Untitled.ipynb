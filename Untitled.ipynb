{
 "cells": [
  {
   "cell_type": "code",
   "execution_count": null,
   "metadata": {},
   "outputs": [],
   "source": []
  },
  {
   "cell_type": "code",
   "execution_count": 14,
   "metadata": {},
   "outputs": [],
   "source": [
    "num=12345\n",
    "res=54321"
   ]
  },
  {
   "cell_type": "code",
   "execution_count": 15,
   "metadata": {},
   "outputs": [
    {
     "name": "stdout",
     "output_type": "stream",
     "text": [
      "54321\n"
     ]
    }
   ],
   "source": [
    "n=12345\n",
    "rev=0\n",
    "while(n>0):\n",
    "    a=n % 10\n",
    "    rev = rev*10 +a\n",
    "    n=n // 10\n",
    "    \n",
    "print(rev)"
   ]
  },
  {
   "cell_type": "code",
   "execution_count": 13,
   "metadata": {},
   "outputs": [
    {
     "name": "stdout",
     "output_type": "stream",
     "text": [
      "54321\n"
     ]
    }
   ],
   "source": [
    "num=12345\n",
    "res=54321\n",
    "def solution(num):\n",
    "    return int(str(num)[::-1])\n",
    "print(solution(num))"
   ]
  },
  {
   "cell_type": "code",
   "execution_count": 17,
   "metadata": {},
   "outputs": [
    {
     "name": "stdout",
     "output_type": "stream",
     "text": [
      "456789\n"
     ]
    }
   ],
   "source": [
    "numb =987654\n",
    "def solution(numb):\n",
    "    return int(str(numb)[::-1])\n",
    "print(solution(numb))"
   ]
  },
  {
   "cell_type": "code",
   "execution_count": 18,
   "metadata": {},
   "outputs": [
    {
     "name": "stdout",
     "output_type": "stream",
     "text": [
      "[2, 4, 6, 8]\n"
     ]
    }
   ],
   "source": [
    "numbers= [1,2,3,4,5,6,7,8,9,10]\n",
    "print(numbers[1:8:2])"
   ]
  },
  {
   "cell_type": "code",
   "execution_count": 19,
   "metadata": {},
   "outputs": [
    {
     "data": {
      "text/plain": [
       "['hello', 'world']"
      ]
     },
     "execution_count": 19,
     "metadata": {},
     "output_type": "execute_result"
    }
   ],
   "source": [
    "def lowercase_decorator(function):\n",
    "    def wrapper():\n",
    "        func = function()\n",
    "        string_lowercase = func.lower()\n",
    "        return string_lowercase\n",
    "    return wrapper\n",
    "def splitter_decorator(function):\n",
    "    def wrapper():\n",
    "        func = function()\n",
    "        string_split = func.split()\n",
    "        return string_split\n",
    "    return wrapper\n",
    "@splitter_decorator\n",
    "@lowercase_decorator\n",
    "def hello():\n",
    "    return 'Hello World'\n",
    "hello()"
   ]
  },
  {
   "cell_type": "code",
   "execution_count": 20,
   "metadata": {},
   "outputs": [
    {
     "name": "stdout",
     "output_type": "stream",
     "text": [
      "16\n"
     ]
    }
   ],
   "source": [
    "def add_nums(num1, num2):\n",
    "    while num2 != 0:\n",
    "        data = num1 & num2\n",
    "        num1 = num1 ^ num2\n",
    "        num2 = data << 1\n",
    "    return num1\n",
    "print(add_nums(1,15))"
   ]
  },
  {
   "cell_type": "code",
   "execution_count": 21,
   "metadata": {},
   "outputs": [
    {
     "name": "stdout",
     "output_type": "stream",
     "text": [
      "True\n",
      "False\n"
     ]
    }
   ],
   "source": [
    "def check_distinct(data_list):\n",
    "    if len(data_list) == len(set(data_list)):\n",
    "        return True\n",
    "    else:\n",
    "        return False;\n",
    "print(check_distinct([1,6,5,8]))\n",
    "print(check_distinct([1,2,10,10]))"
   ]
  },
  {
   "cell_type": "code",
   "execution_count": 22,
   "metadata": {},
   "outputs": [
    {
     "name": "stdout",
     "output_type": "stream",
     "text": [
      "4\n"
     ]
    }
   ],
   "source": [
    "mul_func = lambda x,y : x*y\n",
    "print(mul_func(2,2))"
   ]
  },
  {
   "cell_type": "code",
   "execution_count": 23,
   "metadata": {},
   "outputs": [
    {
     "name": "stdout",
     "output_type": "stream",
     "text": [
      "[[20 53 63]\n",
      " [30 12 22]\n",
      " [40 84 56]]\n"
     ]
    }
   ],
   "source": [
    "import numpy as np\n",
    "inputarray = np.array([[35,53,63],[72, 12, 22],[43,84, 56]])\n",
    "new_col = np.array([20,30,40])\n",
    "arr = np.delete(inputarray, 0, axis=1)\n",
    "arr = np.insert(arr, 0, new_col, axis=1)\n",
    "print(arr)"
   ]
  },
  {
   "cell_type": "code",
   "execution_count": 24,
   "metadata": {},
   "outputs": [
    {
     "name": "stdout",
     "output_type": "stream",
     "text": [
      "{'a': 1, 'b': 2, 'c': 3, 'd': 4}\n"
     ]
    }
   ],
   "source": [
    "d={'a':1,'b':2,'c':4}\n",
    "d['c']=3\n",
    "d['d']=4\n",
    "print(d)"
   ]
  },
  {
   "cell_type": "code",
   "execution_count": null,
   "metadata": {},
   "outputs": [],
   "source": [
    "num = int(input('Enter a number : '))\n",
    "factorial =1\n",
    "if num <0:\n",
    "    print('sorry factorial does nto ext for neg num')\n",
    "elif num==0:\n",
    "    print('the factorial of 0 is 1')\n",
    "else: \n",
    "    for i in range(1, num+1):\n",
    "        factorial = factorial*i\n",
    "    print('the factorial of', num, 'is', factorial)\n"
   ]
  },
  {
   "cell_type": "code",
   "execution_count": null,
   "metadata": {},
   "outputs": [],
   "source": [
    "x=8\n",
    "y=3\n",
    "print(x^y)"
   ]
  },
  {
   "cell_type": "code",
   "execution_count": 2,
   "metadata": {},
   "outputs": [
    {
     "name": "stdout",
     "output_type": "stream",
     "text": [
      "[1, 9, 25, 25, 25, 49, 81]\n"
     ]
    }
   ],
   "source": [
    "  # you need to remove all the even values and square all the odd values\n",
    "l = [1,2,3,4,5,5,5,8,7,9]\n",
    "res = [1,9,25,25,25,49,81]\n",
    "def solution(l):\n",
    "    return [x**2 for x in l if x%2==1]\n",
    "print(solution(l))"
   ]
  },
  {
   "cell_type": "code",
   "execution_count": 11,
   "metadata": {},
   "outputs": [
    {
     "name": "stdout",
     "output_type": "stream",
     "text": [
      "1\n"
     ]
    }
   ],
   "source": [
    "l = [1,2,3,4,5,5,5,8,7,9]\n",
    "res = [1,9,25,25,25,49,81]\n",
    "def solution(x):\n",
    "    for i in x:\n",
    "        if i%2==1:\n",
    "            return i\n",
    "print(solution(l))"
   ]
  }
 ],
 "metadata": {
  "kernelspec": {
   "display_name": "Python 3",
   "language": "python",
   "name": "python3"
  },
  "language_info": {
   "codemirror_mode": {
    "name": "ipython",
    "version": 3
   },
   "file_extension": ".py",
   "mimetype": "text/x-python",
   "name": "python",
   "nbconvert_exporter": "python",
   "pygments_lexer": "ipython3",
   "version": "3.8.5"
  }
 },
 "nbformat": 4,
 "nbformat_minor": 4
}
