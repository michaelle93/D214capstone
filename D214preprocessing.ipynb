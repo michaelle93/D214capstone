{
 "cells": [
  {
   "cell_type": "markdown",
   "metadata": {},
   "source": [
    "## A) Research Question\n",
    "Can a regression model be constructed on the research dataset?\n",
    "#### Capstone Project Name\n",
    "Multiple Linear Regression analysis on Rideshare dataset\n",
    "#### Context\n",
    "The contribution of this study to the field of data analytics and the MSDA program is to create a\n",
    "regression model to find statistical significance between the dependent variable and the independent variables.\n",
    "This study will allow for a better understanding of the patterns of the lifestyle, rush hour, and commuting\n",
    "practices (Chao, 2019). It will also provide better understanding of the prices Uber and Lyft charges and what\n",
    "factors into the price of a ride. Does location, time, day, and weather affect price? Does these also have an\n",
    "effect on the surcharges? The multiple linear regression method is to estimate the different variables that affect\n",
    "the pricing of Uber and Lyft rides.\n",
    "#### Hypothesis\n",
    "    Null hypothesis-. a predictive multiple linear regression cannot be constructed from the dataset\n",
    "    \n",
    "    Alternate Hypothesis-. a predictive multiple linear regression can be constructed from the dataset\n",
    "#### Project Outcomes\n",
    "This project is to create a multiple linear regression to assess the association of multiple\n",
    "independent variables and a single dependent variable (Multiple linear regression analysis 2013). Support for\n",
    "the alternative hypothesis is found in Chao (2019), where a linear regression model was performed and found\n",
    "that there was significance between the variables and price of fares."
   ]
  },
  {
   "cell_type": "markdown",
   "metadata": {},
   "source": [
    "### B) Data Collection\n",
    "The dataset will be downloaded from kaggle.com which is available to the public as a csv file. Two files will be given: a file of the cab ride and a file of the weather. It will be cleaned and preprocessed in Python. Two datasets will be used for this study. The first dataset contains data about the cab rides of Uber and Lyft. These variables include distance, cab_type, timestamp, destination, source, price, surcharge_multiplier, id, product id, and name. This dataset also contains over 693,000 rows of data and composed 10 columns. The second dataset contains data about the weather which includes variables such as temp, location, clouds, pressure, rain, time_stamp, humidity, and wind. This dataset has over 6200 rows of data and composed of 8 columns. \n",
    "\n",
    "The data sparsity is about 7.95% for the cab ride dataset\n",
    "The data sparsity is about 11% for the weather dataset\n",
    "\n",
    "Both datasets will be merged during the preprocessing portion. In order to merge the two data sets the ‘time’ variable from the sets will be matched by the hour. Any values null in price will be dropped. The timestamp is in epoch format which will need to be converted to readable time data. ID and Product ID are not needed for this study and can be dropped. \n",
    "\n",
    "The advantage of using this dataset is that this dataset is made available to the public for other studies. The disadvantage of this dataset is the time frame of collecting data for this dataset was about a month and a half. \n",
    "\n",
    "The challenge faced on collecting this data was that this data used for the research question came in two files. The two files need to be merged into one file to properly utilize all the information for the study. \n"
   ]
  },
  {
   "cell_type": "markdown",
   "metadata": {},
   "source": [
    "### C) Data Extraction and Preparation\n",
    "Python will be used due to the accessibility of the language; it can\n",
    "work with large datasets and has a large library of packages that can run statistical analysis and data\n",
    "analytics. It is a general-purpose programming language which means it can be used for numerous\n",
    "applications. With Python compared to R, Python is the better option when it comes to how fast it runs in all\n",
    "the environments than R (Python vs R: Know the difference 2022). When comparing Python to SAS, Python\n",
    "is the better choice due to its accessibility. SAS is a commercial software program that needs to be\n",
    "purchased while Python is an open-source programming language that is free to use (By admin, 2019).### C) Data Extraction and Preparation\n",
    "\n",
    "Descriptive statistics will be utilized to have a general overview of the datasets. To check for normality, a scatter plot will be used to see the relationship between the independent\n",
    "variables and the target variable. Univariate and multivariate techniques will be performed, and graphical\n",
    "visualizations will be created for visual understanding of the datasets. A Q-Q plot can be used to check normal\n",
    "distribution (Lani, 2021). Outliers and null values will be omitted. Once the preprocessing techniques have been\n",
    "performed, a regression model can be performed to see the correlations of the variables. A linear regression\n",
    "model will be used to see if the dependent variable price can be explained by the predictor variables\n",
    "(Assumptions of linear regression 2022).\n",
    "\n",
    "Python will be used due to the accessibility of the language; it can\n",
    "work with large datasets and has a large library of packages that can run statistical analysis and data\n",
    "analytics. It is a general-purpose programming language which means it can be used for numerous\n",
    "applications. With Python compared to R, Python is the better option when it comes to how fast it runs in all\n",
    "the environments than R (Python vs R: Know the difference 2022). When comparing Python to SAS, Python\n",
    "is the better choice due to its accessibility. SAS is a commercial software program that needs to be\n",
    "purchased while Python is an open-source programming language that is free to use (By admin, 2019).\n",
    "\n",
    "The advantage of using Python is the speed when running on all environments compared to R environments.\n",
    "\n",
    "The disadvantage of using Python versus R or SAS is the visual power and capability. R and SAS is capable of creating beautiful and appealing graphical displays as with Python can look a bit outdated."
   ]
  },
  {
   "cell_type": "markdown",
   "metadata": {},
   "source": [
    "## F) Acknowledge sources\n",
    "- Assumptions of linear regression. Statistics Solutions. (2022, July \n",
    "7). Retrieved July 23, 2022, from https://www.statisticssolutions.com/free-resources/directory-of-statistical-analyses/assumptions-of-linear-regression/\n",
    "- Boston University School of Public Health. (2013, January 17). Multiple linear regression analysis. Retrieved July 27, 2022, from https://sphweb.bumc.bu.edu/otlt/mph-modules/bs/bs704_multivariable/bs704_multivariable7.html\n",
    "- By admin (Ed.). (2019, August 22). SAS vs python: 7 best differences you should know. CourseMentor. Retrieved July 26, 2022, from https://coursementor.com/blog/sas-vs-python/\n",
    "- Chao, Junzhi. (2019). Modeling and Analysis of Uber’s Rider Pricing. https://www.researchgate.net/publication/338438722_Modeling_and_Analysis_of_Uber's_Rider_Pricing\n",
    "- Lani, J. (2021, August 11). Assumptions of multiple linear regression. Statistics Solutions. Retrieved July 27, 2022, from https://www.statisticssolutions.com/free-resources/directory-of-statistical-analyses/assumptions-of-multiple-linear-regression/#:~:text=Multivariate%20Normality%E2%80%93Multiple%20regression%20assumes,Inflation%20Factor%20(VIF)%20values.\n",
    "- Python vs R: Know the difference. InterviewBit. (2022, June 23). Retrieved July 26, 2022, from https://www.interviewbit.com/blog/python-vs-r/\n",
    "- Terra, J. (2021, July 22). Python for data science and data analysis. Simplilearn.com. Retrieved July 16, 2022, from https://www.simplilearn.com/why-python-is-essential-for-data-analysis-article#:~:text=Thanks%20to%20Python&#39;s%20focus%20on,needs%20when%20using%20older%20languages."
   ]
  }
 ],
 "metadata": {
  "kernelspec": {
   "display_name": "Python 3",
   "language": "python",
   "name": "python3"
  },
  "language_info": {
   "codemirror_mode": {
    "name": "ipython",
    "version": 3
   },
   "file_extension": ".py",
   "mimetype": "text/x-python",
   "name": "python",
   "nbconvert_exporter": "python",
   "pygments_lexer": "ipython3",
   "version": "3.8.5"
  }
 },
 "nbformat": 4,
 "nbformat_minor": 4
}
