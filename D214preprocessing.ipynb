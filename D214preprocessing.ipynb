{
 "cells": [
  {
   "cell_type": "markdown",
   "metadata": {},
   "source": [
    "### A) Research Question\n",
    "Can we perform a regression to analyze ride-share services uber/lyft pricing based on the\n",
    "available factors? Does weather, location, time and date factor in the cost of the fare including the surcharge? Which is the better rideshare service based on pricing?\n"
   ]
  },
  {
   "cell_type": "markdown",
   "metadata": {},
   "source": [
    "### B) Data Collection\n",
    "The dataset will be downloaded from kaggle.com which is available to the public as a csv file. Two files will be given: a file of the cab ride and a file of the weather. It will be cleaned and preprocessed in python edited on the Jupyter notebook. Two datasets will be used for this study. The first dataset contains data about the cab rides of Uber and Lyft. These variables include distance, cab type, timestamp, destination, source, price, surcharge multiplier, id, product id, name. This dataset also contains over 693,000 rows of data, 10 columns. The second dataset contains data about the weather which includes variables such as temperature, location, clouds, pressure, rain, timestamp, humidity, and wind. This dataset has over 6200 rows of data and 8 columns. \n",
    "\n",
    "The data sparsity is about 7.95% for the cab ride dataset\n",
    "The data sparsity is about 11% for the weather dataset\n",
    "\n",
    "Both datasets will be merged during the preprocessing portion. In order to merge the two data sets the ‘time’ variable from the sets will be matched by the hour. Any values null in price will be dropped. The timestamp is in epoch format which will need to be converted to readable time data. ID and Product ID are not needed for this study and can be dropped. \n",
    "\n",
    "One advantage of using this dataset is that this dataset is made available to the public for other studies. One disadvantage of this dataset is the time frame of collecting data for this dataset was about a month and a half. One challenge faced on collecting this data was that this data used for the research question came in two files. The two files need to be merged into one file to properly utilize all the information for the study. \n"
   ]
  },
  {
   "cell_type": "markdown",
   "metadata": {},
   "source": [
    "### C) Data Extraction and Preparation\n",
    "\n",
    "Descriptive statistics will be utilized to have a general overview of the datasets. univariate and multivariate techniques will be performed and graphical visualizations will be created for visual understanding of the datasets. Outliers and null values will be omitted for simplicity. Once preprocessing techniques have been completed, the two datasets will be merged into one. Regression models will be performed to better understand the correlations of the variables. A linear regression model will be used to see if the dependent variable price can be explained by the predictor variables (Assumptions of linear regression 2022).\n",
    "\n",
    "Python will be used due to the accessibility of the language, it is capable of working with large datasets and has a large library of packages that can run statistical analysis and data analytics. It is a general purpose programming language which means it can be used for numerous\n",
    "applications, which make it a fast growing programming language to use (Terra, 2021). Python will be used to run the regression model for the price of fares. The jupyter Notebook will be used to run live codes, visualizations and text. \n"
   ]
  }
 ],
 "metadata": {
  "kernelspec": {
   "display_name": "Python 3",
   "language": "python",
   "name": "python3"
  },
  "language_info": {
   "codemirror_mode": {
    "name": "ipython",
    "version": 3
   },
   "file_extension": ".py",
   "mimetype": "text/x-python",
   "name": "python",
   "nbconvert_exporter": "python",
   "pygments_lexer": "ipython3",
   "version": "3.8.5"
  }
 },
 "nbformat": 4,
 "nbformat_minor": 4
}
